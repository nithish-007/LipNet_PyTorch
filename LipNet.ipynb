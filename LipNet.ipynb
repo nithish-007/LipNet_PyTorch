{
 "cells": [
  {
   "cell_type": "code",
   "execution_count": 4,
   "metadata": {},
   "outputs": [],
   "source": [
    "import os \n",
    "import numpy as np \n",
    "import matplotlib.pyplot as plt\n",
    "import cv2\n",
    "import imageio\n",
    "import gdown\n",
    "from typing import List, Tuple, Dict\n",
    "\n",
    "# .pytorch \n",
    "import torch\n",
    "from torch.utils.data import Dataset\n",
    "from torchvision import transforms\n",
    "import torchtext\n"
   ]
  },
  {
   "cell_type": "code",
   "execution_count": 12,
   "metadata": {},
   "outputs": [],
   "source": [
    "device = torch.device(\"cuda\" if torch.cuda.is_available() else \"cpu\")\n",
    "device\n",
    "\n",
    "data_dir = \"./data\"\n",
    "alignments_dir = \"./data/alignments/s1\"\n",
    "video_dir = \"./data/s1/\""
   ]
  },
  {
   "cell_type": "code",
   "execution_count": 32,
   "metadata": {},
   "outputs": [],
   "source": [
    "def get_video_path(video_dir, path):\n",
    "    filename = os.path.basename(os.path.splitext(path)[0])\n",
    "    return os.path.join(video_dir, f\"{filename}.mpg\")\n",
    "\n",
    "def get_video_frames(video_file_path):\n",
    "    frames = []\n",
    "    cap = cv2.VideoCapture(video_file_path)\n",
    "    frame_count = int(cap.get(cv2.CAP_PROP_FRAME_COUNT))\n",
    "    for _ in range(frame_count):\n",
    "        ret, frame = cap.read()\n",
    "        if ret:\n",
    "            frame = cv2.cvtColor(frame, cv2.COLOR_BGR2GRAY)\n",
    "            frames.append(frame[190 : 236, 100 : 200])\n",
    "    cap.release()\n",
    "    return frames\n",
    "\n",
    "def reduced_frames(frames):\n",
    "    frames = torch.tensor(frames, dtype= torch.float32)\n",
    "    mean = torch.mean(frames)\n",
    "    std = torch.std(frames)\n",
    "    return (frames - mean) / std\n",
    "\n",
    "def load_video(path):\n",
    "    video_file_path = get_video_path(video_dir,path)\n",
    "    frames = get_video_frames(video_file_path)\n",
    "    return reduced_frames(frames)"
   ]
  },
  {
   "cell_type": "code",
   "execution_count": null,
   "metadata": {},
   "outputs": [
    {
     "data": {
      "text/plain": [
       "torch.Size([75, 46, 100])"
      ]
     },
     "execution_count": 35,
     "metadata": {},
     "output_type": "execute_result"
    }
   ],
   "source": [
    "sample = load_video(path = \"data/alignments/s1/bbaf2n.align\")"
   ]
  },
  {
   "cell_type": "code",
   "execution_count": null,
   "metadata": {},
   "outputs": [],
   "source": [
    "data_dir = \"./data\"\n",
    "alignments_path = \"./data/alignments/s1\"\n",
    "video_path_list = \"./data/s1/\""
   ]
  },
  {
   "cell_type": "code",
   "execution_count": null,
   "metadata": {},
   "outputs": [],
   "source": []
  }
 ],
 "metadata": {
  "kernelspec": {
   "display_name": "torch",
   "language": "python",
   "name": "python3"
  },
  "language_info": {
   "codemirror_mode": {
    "name": "ipython",
    "version": 3
   },
   "file_extension": ".py",
   "mimetype": "text/x-python",
   "name": "python",
   "nbconvert_exporter": "python",
   "pygments_lexer": "ipython3",
   "version": "3.12.7"
  }
 },
 "nbformat": 4,
 "nbformat_minor": 2
}
